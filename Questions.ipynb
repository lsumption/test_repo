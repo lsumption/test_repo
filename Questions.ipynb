{
 "cells": [
  {
   "cell_type": "markdown",
   "metadata": {},
   "source": [
    "# Allianz Graduate Assessment Day Question Sheet\n",
    "\n",
    "## Welcome to the Allianz Graduate assessment day 2024!\n",
    "\n",
    "Allianz are considering purchasing a multi-dealership vehicle sales business called CarXpress but before we go ahead with the investment, our leadership team have asked us to take a look at the business's last year of sales. They want to know:\n",
    "\n",
    "If the information CarXpress have shared in their data pack is truthful and accurate.\n",
    "1. How much it could cost to stock each dealership.\n",
    "2. Which petrol car is the current bestseller.\n",
    "3. If we can use machine learning to lower our risk of recalls.\n",
    "4. The data engineering team have kindly extracted some data, but it's up to you to analyse the data and provide insight. The challenge has been broken up in **5 tasks** that are all worth different points **[these are shown in square brackets throughout]**.\n",
    "\n",
    "Be sure to make use of the hints and links provided, and **document your thoughts and code throughout** to pick up the points for clarity of execution."
   ]
  },
  {
   "cell_type": "markdown",
   "metadata": {},
   "source": [
    "## Q1 Read in CSV\n",
    "Pandas is a powerful, flexible and easy-to-use open source data analysis and manipulation tool, and we use it a lot for data exploration. Using Pandas, please **read in the 3** CSV files into Pandas DataFrames as named below, and **print the shape** of them:\n",
    "\n",
    "#### 1. sites.csv : `sites_df`\n",
    "* Basic geographical and personnel information about each of called CarXpress' dealerships.\n",
    "#### 2. sales.csv : `sales_df`\n",
    "* A record of the number of vehicles of each type sold at each dealership in 2023.\n",
    "#### 3. vehicles.csv : `vehicles_df`\n",
    "* Descriptive information about vehicles.\n",
    "\n",
    "_[4 points: 0.5 points per DataFrame loaded, 0.5 points per DataFame shape printed, 1 point for clarity of execution]_\n",
    "\n",
    "Feel free to add additional cells to familiarise yourself with the data."
   ]
  },
  {
   "cell_type": "markdown",
   "metadata": {},
   "source": [
    "## Q2. Check data pack is correct\n",
    "The sales pack our leadership was given states that there are **4 sites** that sold a combined **90,000 vehicles in 2023** worth **£1,900,000,000**.\n",
    "\n",
    "1. Using `DataFrame.head()` find which DataFrames have the data for this question. _[1 point]_\n",
    "2. Using `Series.nunique()` find the number of sites we have data for. _[1 point]_\n",
    "3. Using `Series.sum()` find the total number of vehicles sold. _[1 point]_\n",
    "4. By making a new column and again using `Series.sum()`, calculate the total value of the sales (in £). _[1 point]_\n",
    "5. Was the data pack provided accurate? _[1 point]_\n",
    "\n",
    "_[ 6 points: 1 point for clarity of execution]_"
   ]
  },
  {
   "cell_type": "markdown",
   "metadata": {},
   "source": [
    "## Q3. Calculate cost to stock sites\n",
    "If Allianz did purchase this CarXpress, how many vehicles would we need to fill each dealership to capacity?\n",
    "\n",
    "Please estimate what would it cost (in £) at each site. (Assume that stock at the time of purchase is 0)\n",
    "\n",
    "**Hint**: you can use `DataFrame.groupby()` and `DataFrame.agg()` to find the mean selling price at each dealership.\n",
    "\n",
    "_[5 points: 3 method points, 2 for correct answers]_"
   ]
  },
  {
   "cell_type": "markdown",
   "metadata": {},
   "source": [
    "## Q4. Which petrol vehicle was sold the most?\n",
    "1. By joining together `sales_df` and `vehicles_df`, find the make-model combination that has sold the most units. _[3 points]_\n",
    "2. Now find what percentage of these sales were for petrol and diesel vehicles. _[2 points]_\n",
    "3. Using your result from part ii. create a plot that visualises the split of petrol and diesel sales. _[2 points]_\n",
    "\n",
    "**HINT**: For part i. you'll need to make use of `DataFrame.join()`. For part 3. you'll need to use `matplotlib`, which has been imported as `plt`, and `pandas` has it's own plotting methods too.\n",
    "\n",
    "_[8 points: 7 for correct answers. 1 point for clarity of execution]_"
   ]
  },
  {
   "cell_type": "markdown",
   "metadata": {},
   "source": [
    "## Q5. Risk of recall\n",
    "In `vehicles_df` there is a column called `recalled`. This indicates if this model has any outstanding recalls from the manufacturer that need to be dealt with.\n",
    "\n",
    "If Allianz were to buy CarXpress, we wouldn't want to sell cars that are likely to be recalled. The board wants to know if recalls can be predicted, and thus avoided before they go ahead with the purchase.\n",
    "\n",
    "Another data scientist has built a model that uses previous sales and recall data to predict recalls. They have given you their code to review before they call the board to give them the good news.\n",
    "\n",
    "Review the code and then answer the questions below it. _[17 points]_"
   ]
  },
  {
   "cell_type": "code",
   "execution_count": 1,
   "metadata": {},
   "outputs": [
    {
     "name": "stdout",
     "output_type": "stream",
     "text": [
      "Target\n",
      " recalled\n",
      "0.0    19083\n",
      "1.0      916\n",
      "Name: count, dtype: int64\n"
     ]
    }
   ],
   "source": [
    "# 1. load pre-joined data (sales_df, vehicles_df) and check target\n",
    "import pandas as pd\n",
    "data = pd.read_csv('model_data.csv')\n",
    "\n",
    "print('Target\\n',data['recalled'].value_counts())"
   ]
  },
  {
   "cell_type": "code",
   "execution_count": 2,
   "metadata": {},
   "outputs": [
    {
     "name": "stdout",
     "output_type": "stream",
     "text": [
      "Unnamed: 0           0\n",
      "site_id              0\n",
      "vehicle_id           0\n",
      "price                0\n",
      "volume               0\n",
      "row_value            0\n",
      "make                 1\n",
      "model                1\n",
      "manfyear             2\n",
      "fuel_type            1\n",
      "transmission_type    1\n",
      "recalled             1\n",
      "dtype: int64\n"
     ]
    }
   ],
   "source": [
    "# 2. Drop any rows with missing values\n",
    "print(data.isna().sum())\n",
    "data.dropna(inplace=True)"
   ]
  },
  {
   "cell_type": "code",
   "execution_count": 3,
   "metadata": {},
   "outputs": [],
   "source": [
    "# Import scikit learn packages\n",
    "from sklearn.model_selection import train_test_split\n",
    "from sklearn.preprocessing import OneHotEncoder, StandardScaler, LabelEncoder\n",
    "from sklearn.compose import ColumnTransformer\n",
    "from sklearn.linear_model import LogisticRegression\n",
    "from sklearn.pipeline import make_pipeline\n",
    "\n",
    "# 3. Define categorical and numerical columns to be used in model\n",
    "categorical_columns = ['site_id', 'vehicle_id', 'make', 'model', 'fuel_type', 'transmission_type']\n",
    "numerical_columns = ['price', 'volume', 'manfyear']\n",
    "\n",
    "# 4. Split data into train and test\n",
    "X = data.drop('recalled', axis=1)\n",
    "y = data['recalled']\n",
    "X_train, X_test, y_train, y_test = train_test_split(X, y, random_state=1)\n",
    "\n",
    "# 5. Create feature processing steps\n",
    "categorical_preprocessor = OneHotEncoder(handle_unknown=\"ignore\")\n",
    "numerical_preprocessor = StandardScaler()\n",
    "\n",
    "preprocessor = ColumnTransformer([\n",
    "    ('one-hot-encoder', categorical_preprocessor, categorical_columns),\n",
    "    ('standard_scaler', numerical_preprocessor, numerical_columns),\n",
    "    \n",
    "])\n",
    "\n",
    "# 6. Make pipeline\n",
    "model = make_pipeline(preprocessor, LogisticRegression(max_iter=500))\n",
    "\n",
    "# 7. train model\n",
    "model_trained = model.fit(X_train, y_train)"
   ]
  },
  {
   "cell_type": "code",
   "execution_count": 4,
   "metadata": {},
   "outputs": [
    {
     "name": "stdout",
     "output_type": "stream",
     "text": [
      "Train score: 0.9822643019069209\n",
      "Test score: 0.9668 \n",
      "\n"
     ]
    },
    {
     "data": {
      "image/png": "[encoded data removed]",
      "text/plain": [
       "<Figure size 640x480 with 2 Axes>"
      ]
     },
     "metadata": {},
     "output_type": "display_data"
    }
   ],
   "source": [
    "# Import functions to get metrics\n",
    "from sklearn.metrics import confusion_matrix, ConfusionMatrixDisplay, classification_report\n",
    "\n",
    "# 8. score model\n",
    "print(\"Train score:\", model_trained.score(X_train, y_train))\n",
    "print(\"Test score:\", model_trained.score(X_test, y_test), '\\n')\n",
    "\n",
    "# 9. Confusion matrix\n",
    "y_pred = model_trained.predict(X_test)\n",
    "cm = confusion_matrix(y_test, y_pred, labels=model_trained.classes_)\n",
    "disp = ConfusionMatrixDisplay(confusion_matrix=cm,\n",
    "                              display_labels=model_trained.classes_)\n",
    "disp.plot();"
   ]
  },
  {
   "cell_type": "code",
   "execution_count": 5,
   "metadata": {},
   "outputs": [
    {
     "name": "stdout",
     "output_type": "stream",
     "text": [
      "There are {len(features)} features in the model.\n",
      "                                                features      coef\n",
      "21388                          standard_scaler__manfyear -3.783532\n",
      "12018                  one-hot-encoder__vehicle_id_66360 -1.557543\n",
      "21134     one-hot-encoder__model_XJ-S V12 6.0 COUPE AUTO -1.557543\n",
      "18576  one-hot-encoder__model_LANDCRUISER PRADO TD AU... -1.428065\n",
      "16369                one-hot-encoder__model_CIVIC HAWAII -1.133123 \n",
      "\n",
      "                                                features      coef\n",
      "1664                    one-hot-encoder__vehicle_id_9005  1.215473\n",
      "5549                   one-hot-encoder__vehicle_id_30200  1.237606\n",
      "20342  one-hot-encoder__model_T220 CONNECT TDI (75) L...  1.237606\n",
      "19976              one-hot-encoder__model_S60 S D5 (163)  1.409291\n",
      "4363                   one-hot-encoder__vehicle_id_23478  1.409291\n"
     ]
    }
   ],
   "source": [
    "# 10. Look at feature coefficients\n",
    "coef = model_trained.steps[1][1].coef_\n",
    "features = model_trained.steps[0][1].get_feature_names_out()\n",
    "\n",
    "print(\"There are {len(features)} features in the model.\")\n",
    "\n",
    "feature_coef = pd.DataFrame(zip(features, coef[0]), columns=['features', 'coef'])\n",
    "print(feature_coef.sort_values('coef').head(5), '\\n')\n",
    "\n",
    "print(feature_coef.sort_values('coef').tail(5))"
   ]
  },
  {
   "cell_type": "markdown",
   "metadata": {},
   "source": [
    "## Questions :\n",
    "1. Is this a supervised or upsupervised learning problem? _[1 point]_\n",
    "2. What can you say about the target, `recalled`? _[2 points]_\n",
    "3. What else could have been done with the missing values in **step 2**? _[1 point]_\n",
    "4. Summarise what is being achieved in **step 5**. Give one potential improvement. _[3 points]_\n",
    "5. In **step 8** to **step 9**, the data scientist is checking performance. Calculate the precision and recall from the confusion matrix and comment on the model's performance. _[4 points]_\n",
    "\n",
    "$Precision = \\frac{True~Positives}{\\left ( True~Positives + False~Positives \\right )}$\n",
    "\n",
    "$Recall = \\frac{True~Positives}{\\left ( True~Positives + False~Negatives\\right )}$\n",
    "\n",
    "6. What do the feature coefficients in **step 10** tell us about vehicles likely to be recalled and the models features? _[2 points]_\n",
    "7. Why do you think improving the rate of recall is important if the manufacturer's pay for the work anyway? Do you think this model could lower the rate of recall? _[4 points]_"
   ]
  },
  {
   "cell_type": "markdown",
   "metadata": {},
   "source": [
    "## Q6. Daily Sales (Bonus)\n",
    "A last minute request has come in to visualise the daily sales at **site one** and estimate the number of staff needed to ensure all sales can take place smoothly.\n",
    "\n",
    "In addition, the board would like to know the annual cost of permanent staff.\n",
    "\n",
    "1. Using `daily_sales.csv` isolate the sales for site one, and visualise the sales count as a time series. _[3 points]_\n",
    "2. Calculate the median number of daily sales at site one and mark it on the visualisation. _[1 point]_\n",
    "3. We would need enough perment staff to complete sales on a median sales day. A permanent sales associate can handle **5** sales a day. Assuming staff work **7** days a week, how many permenent staff might we need? _[1 point]_\n",
    "4. How many day's a year would the permanent staff be able to meet the demand? _[1 point]_\n",
    "5. A temporary sales associate works **7** days a week but only handles **4** sales a day. On our busiest day, how many additional staff would we need? What day of the year is this? _[2 points]_\n",
    "6. Permenent staff are paid **£115/day** ususally, and paid **£140/day** when there are temporary staff to support. What is the annual cost of permenent staff? _[1 point]_\n",
    "\n",
    "_[10 points: 9 for correct answers, 1 for execution]_"
   ]
  },
  {
   "cell_type": "markdown",
   "metadata": {},
   "source": []
  }
 ],
 "metadata": {
  "kernelspec": {
   "display_name": "grad-env",
   "language": "python",
   "name": "python3"
  },
  "language_info": {
   "codemirror_mode": {
    "name": "ipython",
    "version": 3
   },
   "file_extension": ".py",
   "mimetype": "text/x-python",
   "name": "python",
   "nbconvert_exporter": "python",
   "pygments_lexer": "ipython3",
   "version": "3.13.0"
  }
 },
 "nbformat": 4,
 "nbformat_minor": 2
}
